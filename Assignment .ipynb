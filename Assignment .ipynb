{
 "cells": [
  {
   "cell_type": "code",
   "execution_count": null,
   "metadata": {},
   "outputs": [],
   "source": [
    "#Assignment      Amish Rafiq\n"
   ]
  },
  {
   "cell_type": "code",
   "execution_count": 1,
   "metadata": {},
   "outputs": [
    {
     "name": "stdout",
     "output_type": "stream",
     "text": [
      "Enter a Number:12\n",
      "Number is Positive\n"
     ]
    }
   ],
   "source": [
    "# Write python program to check whether a number is positive or negative.\n",
    "num = int(input(\"Enter a Number:\"))\n",
    "if num >= 0 :\n",
    "    print(\"Number is Positive\")\n",
    "else:\n",
    "    print(\"Number is Negative\")"
   ]
  },
  {
   "cell_type": "code",
   "execution_count": 2,
   "metadata": {},
   "outputs": [
    {
     "name": "stdout",
     "output_type": "stream",
     "text": [
      "Enter Your Subjects Marks Below\n",
      "Enter your english subject marks:57\n",
      "Enter your Islamiyat subject marks:89\n",
      "Enter your Urdu subject marks:87\n",
      "Enter your Physics subject marks:90\n",
      "Enter your Chemistry subject marks:95\n",
      "Total Marks: 418\n",
      "Average is: 83.6\n",
      "Grade B\n"
     ]
    }
   ],
   "source": [
    "# Write python program to take in the marks of 5 subjects and display the grade.\n",
    "\n",
    "print(\"Enter Your Subjects Marks Below\")\n",
    "eng =  int(input(\"Enter your english subject marks:\"))\n",
    "isl =  int(input(\"Enter your Islamiyat subject marks:\"))\n",
    "urdu=  int(input(\"Enter your Urdu subject marks:\"))\n",
    "phy =  int(input(\"Enter your Physics subject marks:\"))\n",
    "chem=  int(input(\"Enter your Chemistry subject marks:\"))\n",
    "\n",
    "total_marks = (eng + isl + urdu + phy + chem)\n",
    "print(\"Total Marks:\", total_marks)\n",
    "avg  = total_marks/500*100\n",
    "print(\"Average is:\" , avg)\n",
    "if avg >= 90:\n",
    "    print(\"Grade A\")\n",
    "elif avg >= 70 and avg < 90:\n",
    "    print(\"Grade B\")\n",
    "elif avg >= 50 and avg < 70:\n",
    "    print(\"Grade C\")\n",
    "elif avg >= 30 and avg < 50:\n",
    "    print(\"Grade D\")\n",
    "else:\n",
    "    print(\"Fail\")"
   ]
  },
  {
   "cell_type": "code",
   "execution_count": 3,
   "metadata": {},
   "outputs": [
    {
     "name": "stdout",
     "output_type": "stream",
     "text": [
      "Enter first number:12\n",
      "Enter second number:12\n",
      "Quotient is : 1.0\n",
      "Remainder is : 0\n"
     ]
    }
   ],
   "source": [
    "# Write python program to read two numbers and print their quotient and remainder.\n",
    "\n",
    "num1 = int(input(\"Enter first number:\"))\n",
    "num2 = int(input(\"Enter second number:\"))\n",
    "quotient = num1/num2\n",
    "print(\"Quotient is :\" , quotient)\n",
    "remainder = num1%num2\n",
    "print(\"Remainder is :\" , remainder)"
   ]
  },
  {
   "cell_type": "code",
   "execution_count": 4,
   "metadata": {},
   "outputs": [
    {
     "name": "stdout",
     "output_type": "stream",
     "text": [
      "1\n",
      "5\n",
      "7\n",
      "11\n",
      "13\n",
      "17\n",
      "19\n",
      "23\n",
      "25\n",
      "29\n",
      "31\n",
      "35\n",
      "37\n",
      "41\n",
      "43\n",
      "47\n",
      "49\n"
     ]
    }
   ],
   "source": [
    "# Write python program to print all integers that are not divisible by either 2 or 3 \n",
    "#and lie between 1 and 50.\n",
    "\n",
    "for i in range (51):\n",
    "    if i % 2 != 0 and i % 3 != 0:\n",
    "        print(i)"
   ]
  },
  {
   "cell_type": "code",
   "execution_count": 6,
   "metadata": {},
   "outputs": [
    {
     "name": "stdout",
     "output_type": "stream",
     "text": [
      "Enter first value:12\n",
      "Enter second value:23\n",
      "23\n",
      "12\n"
     ]
    }
   ],
   "source": [
    "# Write python program to exchange the values of two numbers without using a temporary variable.\n",
    "\n",
    "a = int(input(\"Enter first value:\"))\n",
    "b = int(input(\"Enter second value:\"))\n",
    "a = a + b\n",
    "b = a - b\n",
    "a = a - b\n",
    "print(a)\n",
    "print(b)"
   ]
  },
  {
   "cell_type": "code",
   "execution_count": 7,
   "metadata": {},
   "outputs": [
    {
     "name": "stdout",
     "output_type": "stream",
     "text": [
      "Enter first side :12\n",
      "Enter second side :23\n",
      "Enter third side :34\n",
      "34.5\n",
      "Area of a Triangle : 66.80896272207794\n"
     ]
    }
   ],
   "source": [
    "# Write python program to find the area of the triangle given all three sides.\n",
    "\n",
    "a = int(input(\"Enter first side :\"))\n",
    "b = int(input(\"Enter second side :\"))\n",
    "c = int(input(\"Enter third side :\"))\n",
    "s = (a + b + c)/2\n",
    "print(s)\n",
    "s= s*((s-a)*(s-b)*(s-c))\n",
    "print(\"Area of a Triangle :\" , s**0.5)"
   ]
  },
  {
   "cell_type": "code",
   "execution_count": 10,
   "metadata": {},
   "outputs": [
    {
     "name": "stdout",
     "output_type": "stream",
     "text": [
      "Enter the number of elements to be in the list:5\n",
      "Element: 12\n",
      "Element: 23\n",
      "Element: 34\n",
      "Element: 45\n",
      "Element: 56\n",
      "Largest even number: 56\n",
      "Largest odd number 45\n"
     ]
    }
   ],
   "source": [
    "# write python program to print largest even and largest odd number in a list.\n",
    "\n",
    "n=int(input(\"Enter the number of elements to be in the list:\"))\n",
    "b=[]\n",
    "for i in range(0,n):\n",
    "    a=int(input(\"Element: \"))\n",
    "    b.append(a)\n",
    "c=[]\n",
    "d=[]\n",
    "for i in b:\n",
    "    if(i%2==0):\n",
    "        c.append(i)\n",
    "    else:\n",
    "        d.append(i)\n",
    "c.sort()\n",
    "d.sort()\n",
    "count1=0\n",
    "count2=0\n",
    "for k in c:\n",
    "    count1=count1+1\n",
    "for j in d:\n",
    "    count2=count2+1\n",
    "print(\"Largest even number:\",c[count1-1])\n",
    "print(\"Largest odd number\",d[count2-1])"
   ]
  },
  {
   "cell_type": "code",
   "execution_count": null,
   "metadata": {},
   "outputs": [],
   "source": [
    "# Write a python program to find the second largest number in a list.\n",
    "\n",
    "n=int(input(\"Enter the number of elements to be in the list:\"))\n",
    "b=[]\n",
    "for i in range(0,n):\n",
    "    a=int(input(\"Element: \"))\n",
    "    b.append(a)\n",
    "#a = [12,32,54,34,65,56,76,87,55]\n",
    "b.sort()\n",
    "print(\"Second largest element in a list is : \" , b[-2])\n"
   ]
  },
  {
   "cell_type": "code",
   "execution_count": null,
   "metadata": {},
   "outputs": [],
   "source": []
  },
  {
   "cell_type": "code",
   "execution_count": null,
   "metadata": {},
   "outputs": [],
   "source": []
  }
 ],
 "metadata": {
  "kernelspec": {
   "display_name": "Python 3",
   "language": "python",
   "name": "python3"
  },
  "language_info": {
   "codemirror_mode": {
    "name": "ipython",
    "version": 3
   },
   "file_extension": ".py",
   "mimetype": "text/x-python",
   "name": "python",
   "nbconvert_exporter": "python",
   "pygments_lexer": "ipython3",
   "version": "3.7.5"
  }
 },
 "nbformat": 4,
 "nbformat_minor": 2
}
